{
 "cells": [
  {
   "cell_type": "code",
   "execution_count": null,
   "id": "0e6f2909",
   "metadata": {},
   "outputs": [],
   "source": [
    "#QUESTION 1\n",
    "star='*'\n",
    "for i in range(1, 6):  \n",
    "         for j in range(1,i):  \n",
    "                    print(\"*\",end=' ')\n",
    "       print(\"\\r\")  \n",
    "for i in range(6, 1, -1): \n",
    "        for j in range(1,i):  \n",
    "               print(\"*\", end=' ')\n",
    "    print(\"\\r\") \n"
   ]
  },
  {
   "cell_type": "code",
   "execution_count": null,
   "id": "4fe7a0f5",
   "metadata": {},
   "outputs": [],
   "source": [
    "*\n",
    "* *\n",
    "* * *\n",
    "* * * *\n",
    "* * * * *\n",
    "* * * *\n",
    "* * *\n",
    "* *\n",
    "*"
   ]
  },
  {
   "cell_type": "code",
   "execution_count": null,
   "id": "de690597",
   "metadata": {},
   "outputs": [],
   "source": [
    "#QUESTION 2\n",
    " my_list = [10, 20, 30, 40, 50, 60, 70, 80, 90, 100]\n",
    "      for i in my_list[1 : : 2]:\n",
    "           print (i, end =\" \")\n",
    "\n"
   ]
  },
  {
   "cell_type": "code",
   "execution_count": null,
   "id": "c3d81605",
   "metadata": {},
   "outputs": [],
   "source": [
    "20 40 60 80 100"
   ]
  },
  {
   "cell_type": "code",
   "execution_count": null,
   "id": "bc3cd2ad",
   "metadata": {},
   "outputs": [],
   "source": [
    "#Question 3\n",
    "x = [23, 'Python', 23.98]\n",
    "types  =  []\n",
    "for i  in  x:\n",
    " types.append(type(i))\n",
    "print(x)\n",
    "print(types)"
   ]
  },
  {
   "cell_type": "code",
   "execution_count": null,
   "id": "ad40c58c",
   "metadata": {},
   "outputs": [],
   "source": [
    "[23, 'Python', 23.98]\n",
    "[<class  'int'>, <class 'str'>, <class 'float'>]"
   ]
  },
  {
   "cell_type": "code",
   "execution_count": null,
   "id": "e01bc6bc",
   "metadata": {},
   "outputs": [],
   "source": [
    "#Question  4\n",
    "sample_List=[1,2,3,3,3,3,4,5]\n",
    "unique_List=[]\n",
    "for  i in sample_List:\n",
    "       if i not  in unique_List:\n",
    "          unique_List.append(i)\n",
    "print(sample_List)\n",
    "print(unique_List)"
   ]
  },
  {
   "cell_type": "code",
   "execution_count": null,
   "id": "ff3f995b",
   "metadata": {},
   "outputs": [],
   "source": [
    "[1, 2, 3, 3, 3, 3, 4, 5]\n",
    "[1, 2, 3, 4, 5]"
   ]
  },
  {
   "cell_type": "code",
   "execution_count": null,
   "id": "ebe6b229",
   "metadata": {},
   "outputs": [],
   "source": [
    "#Question 5\n",
    "def count_case(string):\n",
    "    upper_count = 0\n",
    "    lower_count = 0\n",
    "    # Iterate through each character in the string\n",
    "    for char in string:\n",
    "     \n",
    "        if char.isupper():\n",
    "            upper_count += 1\n",
    "        elif char.islower():\n",
    "            lower_count += 1\n",
    "  return upper_count, lower_count\n",
    "input_string = 'The quick Brow Fox'\n",
    "upper_count,lower_count = count_case(input_string)\n",
    "    print(\"No. of Upper-case characters:\", upper_count)\n",
    "    print(\"No. of Lower-case Characters:\", lower_count)"
   ]
  },
  {
   "cell_type": "code",
   "execution_count": null,
   "id": "947cbdbd",
   "metadata": {},
   "outputs": [],
   "source": [
    "No. of Upper-case characters: 3\n",
    "No. of Lower-case characters: 12"
   ]
  }
 ],
 "metadata": {
  "kernelspec": {
   "display_name": "Python 3 (ipykernel)",
   "language": "python",
   "name": "python3"
  },
  "language_info": {
   "codemirror_mode": {
    "name": "ipython",
    "version": 3
   },
   "file_extension": ".py",
   "mimetype": "text/x-python",
   "name": "python",
   "nbconvert_exporter": "python",
   "pygments_lexer": "ipython3",
   "version": "3.11.5"
  }
 },
 "nbformat": 4,
 "nbformat_minor": 5
}
